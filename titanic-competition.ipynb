{
 "cells": [
  {
   "cell_type": "markdown",
   "id": "462339ba",
   "metadata": {
    "papermill": {
     "duration": 0.003246,
     "end_time": "2024-07-21T08:15:43.467131",
     "exception": false,
     "start_time": "2024-07-21T08:15:43.463885",
     "status": "completed"
    },
    "tags": []
   },
   "source": [
    "/kaggle/input/titanic/train.csv\n",
    "/kaggle/input/titanic/test.csv\n",
    "/kaggle/input/titanic/gender_submission.csv\n",
    "\n"
   ]
  },
  {
   "cell_type": "code",
   "execution_count": 1,
   "id": "e239d318",
   "metadata": {
    "execution": {
     "iopub.execute_input": "2024-07-21T08:15:43.475879Z",
     "iopub.status.busy": "2024-07-21T08:15:43.474655Z",
     "iopub.status.idle": "2024-07-21T08:15:45.830200Z",
     "shell.execute_reply": "2024-07-21T08:15:45.828918Z"
    },
    "papermill": {
     "duration": 2.362702,
     "end_time": "2024-07-21T08:15:45.832744",
     "exception": false,
     "start_time": "2024-07-21T08:15:43.470042",
     "status": "completed"
    },
    "tags": []
   },
   "outputs": [
    {
     "name": "stdout",
     "output_type": "stream",
     "text": [
      "['train.csv', 'test.csv', 'gender_submission.csv']\n"
     ]
    }
   ],
   "source": [
    "import os\n",
    "import numpy as np\n",
    "from sklearn.model_selection import train_test_split\n",
    "from sklearn.metrics import accuracy_score\n",
    "from sklearn.neighbors import KNeighborsClassifier\n",
    "import pandas as pd\n",
    "import matplotlib.pyplot as plt\n",
    "\n",
    "# Set random seed for reproducibility\n",
    "np.random.seed(42)\n",
    "\n",
    "# Setup path\n",
    "TRAIN_PATH = '/kaggle/input/titanic/train.csv'\n",
    "TEST_PATH = '/kaggle/input/titanic/test.csv'\n",
    "OUTPUT_PATH = '/kaggle/working/gender_submission.csv'\n",
    "print(os.listdir('/kaggle/input/titanic'))"
   ]
  },
  {
   "cell_type": "code",
   "execution_count": 2,
   "id": "845e7248",
   "metadata": {
    "execution": {
     "iopub.execute_input": "2024-07-21T08:15:45.839974Z",
     "iopub.status.busy": "2024-07-21T08:15:45.839435Z",
     "iopub.status.idle": "2024-07-21T08:15:45.894548Z",
     "shell.execute_reply": "2024-07-21T08:15:45.893345Z"
    },
    "papermill": {
     "duration": 0.062047,
     "end_time": "2024-07-21T08:15:45.897511",
     "exception": false,
     "start_time": "2024-07-21T08:15:45.835464",
     "status": "completed"
    },
    "tags": []
   },
   "outputs": [
    {
     "name": "stdout",
     "output_type": "stream",
     "text": [
      "Train data:\n",
      "   PassengerId  Survived  Pclass  \\\n",
      "0            1         0       3   \n",
      "1            2         1       1   \n",
      "2            3         1       3   \n",
      "3            4         1       1   \n",
      "4            5         0       3   \n",
      "\n",
      "                                                Name     Sex   Age  SibSp  \\\n",
      "0                            Braund, Mr. Owen Harris    male  22.0      1   \n",
      "1  Cumings, Mrs. John Bradley (Florence Briggs Th...  female  38.0      1   \n",
      "2                             Heikkinen, Miss. Laina  female  26.0      0   \n",
      "3       Futrelle, Mrs. Jacques Heath (Lily May Peel)  female  35.0      1   \n",
      "4                           Allen, Mr. William Henry    male  35.0      0   \n",
      "\n",
      "   Parch            Ticket     Fare Cabin Embarked  \n",
      "0      0         A/5 21171   7.2500   NaN        S  \n",
      "1      0          PC 17599  71.2833   C85        C  \n",
      "2      0  STON/O2. 3101282   7.9250   NaN        S  \n",
      "3      0            113803  53.1000  C123        S  \n",
      "4      0            373450   8.0500   NaN        S  \n",
      "\n",
      "\n",
      "\n",
      "Test data:\n",
      "   PassengerId  Pclass                                          Name     Sex  \\\n",
      "0          892       3                              Kelly, Mr. James    male   \n",
      "1          893       3              Wilkes, Mrs. James (Ellen Needs)  female   \n",
      "2          894       2                     Myles, Mr. Thomas Francis    male   \n",
      "3          895       3                              Wirz, Mr. Albert    male   \n",
      "4          896       3  Hirvonen, Mrs. Alexander (Helga E Lindqvist)  female   \n",
      "\n",
      "    Age  SibSp  Parch   Ticket     Fare Cabin Embarked  \n",
      "0  34.5      0      0   330911   7.8292   NaN        Q  \n",
      "1  47.0      1      0   363272   7.0000   NaN        S  \n",
      "2  62.0      0      0   240276   9.6875   NaN        Q  \n",
      "3  27.0      0      0   315154   8.6625   NaN        S  \n",
      "4  22.0      1      1  3101298  12.2875   NaN        S  \n"
     ]
    }
   ],
   "source": [
    "# Visualize data\n",
    "train_df = pd.read_csv(TRAIN_PATH)\n",
    "test_df = pd.read_csv(TEST_PATH)\n",
    "print(\"Train data:\")\n",
    "print(train_df.head())\n",
    "print('\\n\\n')\n",
    "print(\"Test data:\")\n",
    "print(test_df.head())"
   ]
  },
  {
   "cell_type": "code",
   "execution_count": 3,
   "id": "26dad8e8",
   "metadata": {
    "execution": {
     "iopub.execute_input": "2024-07-21T08:15:45.905368Z",
     "iopub.status.busy": "2024-07-21T08:15:45.904804Z",
     "iopub.status.idle": "2024-07-21T08:15:46.080797Z",
     "shell.execute_reply": "2024-07-21T08:15:46.079752Z"
    },
    "papermill": {
     "duration": 0.18265,
     "end_time": "2024-07-21T08:15:46.083137",
     "exception": false,
     "start_time": "2024-07-21T08:15:45.900487",
     "status": "completed"
    },
    "tags": []
   },
   "outputs": [
    {
     "name": "stdout",
     "output_type": "stream",
     "text": [
      "Train data:\n",
      "<class 'pandas.core.frame.DataFrame'>\n",
      "RangeIndex: 891 entries, 0 to 890\n",
      "Data columns (total 13 columns):\n",
      " #   Column       Non-Null Count  Dtype   \n",
      "---  ------       --------------  -----   \n",
      " 0   PassengerId  891 non-null    int64   \n",
      " 1   Pclass       891 non-null    int64   \n",
      " 2   Sex          891 non-null    int64   \n",
      " 3   Age          891 non-null    float64 \n",
      " 4   SibSp        891 non-null    int64   \n",
      " 5   Parch        891 non-null    int64   \n",
      " 6   Fare         891 non-null    float64 \n",
      " 7   FamilySize   891 non-null    int64   \n",
      " 8   IsAlone      891 non-null    int64   \n",
      " 9   AgeGroup     891 non-null    category\n",
      " 10  FareGroup    891 non-null    category\n",
      " 11  Title        891 non-null    int64   \n",
      " 12  Deck         891 non-null    int64   \n",
      "dtypes: category(2), float64(2), int64(9)\n",
      "memory usage: 78.8 KB\n",
      "None\n",
      "\n",
      "\n",
      "\n",
      "Test data:\n",
      "<class 'pandas.core.frame.DataFrame'>\n",
      "RangeIndex: 418 entries, 0 to 417\n",
      "Data columns (total 13 columns):\n",
      " #   Column       Non-Null Count  Dtype   \n",
      "---  ------       --------------  -----   \n",
      " 0   PassengerId  418 non-null    int64   \n",
      " 1   Pclass       418 non-null    int64   \n",
      " 2   Sex          418 non-null    int64   \n",
      " 3   Age          418 non-null    float64 \n",
      " 4   SibSp        418 non-null    int64   \n",
      " 5   Parch        418 non-null    int64   \n",
      " 6   Fare         418 non-null    float64 \n",
      " 7   FamilySize   418 non-null    int64   \n",
      " 8   IsAlone      418 non-null    int64   \n",
      " 9   AgeGroup     418 non-null    category\n",
      " 10  FareGroup    418 non-null    category\n",
      " 11  Title        418 non-null    int64   \n",
      " 12  Deck         418 non-null    int64   \n",
      "dtypes: category(2), float64(2), int64(9)\n",
      "memory usage: 37.3 KB\n",
      "None\n",
      "Train data:\n",
      "PassengerId    0\n",
      "Pclass         0\n",
      "Sex            0\n",
      "Age            0\n",
      "SibSp          0\n",
      "Parch          0\n",
      "Fare           0\n",
      "FamilySize     0\n",
      "IsAlone        0\n",
      "AgeGroup       0\n",
      "FareGroup      0\n",
      "Title          0\n",
      "Deck           0\n",
      "dtype: int64\n",
      "\n",
      "\n",
      "\n",
      "Test data:\n",
      "PassengerId    0\n",
      "Pclass         0\n",
      "Sex            0\n",
      "Age            0\n",
      "SibSp          0\n",
      "Parch          0\n",
      "Fare           0\n",
      "FamilySize     0\n",
      "IsAlone        0\n",
      "AgeGroup       0\n",
      "FareGroup      0\n",
      "Title          0\n",
      "Deck           0\n",
      "dtype: int64\n",
      "Input dimensions: 13\n"
     ]
    }
   ],
   "source": [
    "# Preprocess data\n",
    "\n",
    "# Transform port of embarkation to -1, 0, 1 for Southampton, Cherbourg, Queenstown\n",
    "train_df['Embarked'] = train_df['Embarked'].map({'S': -1, 'C': 0, 'Q': 1})\n",
    "test_df['Embarked'] = test_df['Embarked'].map({'S': -1, 'C': 0, 'Q': 1})\n",
    "\n",
    "# Transform sex to 0, 1\n",
    "train_df['Sex'] = train_df['Sex'].map({\"male\": 1, 'female': -1})\n",
    "test_df['Sex'] = test_df['Sex'].map({\"male\": 1, 'female': -1})\n",
    "\n",
    "# Get target variable\n",
    "y = train_df['Survived']\n",
    "\n",
    "X = train_df\n",
    "X_test = test_df\n",
    "\n",
    "# Fill missing values\n",
    "X['Age'] = X['Age'].fillna(X['Age'].mean())\n",
    "X['Fare'] = X['Fare'].fillna(X['Fare'].mean())\n",
    "X_test['Age'] = X_test['Age'].fillna(X_test['Age'].mean())\n",
    "X_test['Fare'] = X_test['Fare'].fillna(X_test['Fare'].mean())\n",
    "\n",
    "# Create pertinent features\n",
    "# Family size\n",
    "X['FamilySize'] = X['SibSp'] + X['Parch'] + 1\n",
    "X_test['FamilySize'] = X_test['SibSp'] + X_test['Parch'] + 1\n",
    "# IsAlone\n",
    "X['IsAlone'] = (X['FamilySize'] == 1).astype(int)\n",
    "X_test['IsAlone'] = (X_test['FamilySize'] == 1).astype(int)\n",
    "# Age group\n",
    "X['AgeGroup'] = pd.cut(X['Age'], bins=[0, 12, 21, 65, 200], labels=[0, 1, 2, 3])\n",
    "X_test['AgeGroup'] = pd.cut(X_test['Age'], bins=[0, 12, 18, 65, 200], labels=[0, 1, 2, 3])\n",
    "# Fare group\n",
    "X['FareGroup'] = pd.cut(X['Fare'], bins=[-1, 6, 12, 29, 870, 10000], labels=[0, 1, 2, 3, 4])\n",
    "X_test['FareGroup'] = pd.cut(X_test['Fare'], bins=[-1, 6, 12, 29, 870, 10000], labels=[0, 1, 2, 3, 4])\n",
    "# Title\n",
    "X['Title'] = X['Name'].str.extract(' ([A-Za-z]+)\\.', expand=False)\n",
    "X['Title'] = X['Title'].replace(['Lady', 'Countess','Capt', 'Col', 'Don', 'Dr', 'Major', 'Rev', 'Sir', 'Jonkheer', 'Dona'], 'Rare')\n",
    "X['Title'] = X['Title'].replace('Mlle', 'Miss')\n",
    "X['Title'] = X['Title'].replace('Ms', 'Miss')\n",
    "X['Title'] = X['Title'].replace('Mme', 'Mrs')\n",
    "X['Title'] = X['Title'].map({\"Mr\": 0, \"Miss\": 1, \"Mrs\": 2, \"Master\": 3, \"Rare\": 4})\n",
    "X_test['Title'] = X_test['Name'].str.extract(' ([A-Za-z]+)\\.', expand=False)\n",
    "X_test['Title'] = X_test['Title'].replace(['Lady', 'Countess','Capt', 'Col', 'Don', 'Dr', 'Major', 'Rev', 'Sir', 'Jonkheer', 'Dona'], 'Rare')\n",
    "X_test['Title'] = X_test['Title'].replace('Mlle', 'Miss')\n",
    "X_test['Title'] = X_test['Title'].replace('Ms', 'Miss')\n",
    "X_test['Title'] = X_test['Title'].replace('Mme', 'Mrs')\n",
    "X_test['Title'] = X_test['Title'].map({\"Mr\": 0, \"Miss\": 1, \"Mrs\": 2, \"Master\": 3, \"Rare\": 4})\n",
    "# Deck\n",
    "X['Deck'] = X['Cabin'].str.extract('([A-Z])', expand=False)\n",
    "X['Deck'] = X['Deck'].fillna('N')\n",
    "X['Deck'] = X['Deck'].map({'N': 0, 'A': 1, 'B': 2, 'C': 3, 'D': 4, 'E': 5, 'F': 6, 'G': 7, 'T': 8})\n",
    "X_test['Deck'] = X_test['Cabin'].str.extract('([A-Z])', expand=False)\n",
    "X_test['Deck'] = X_test['Deck'].fillna('N')\n",
    "X_test['Deck'] = X_test['Deck'].map({'N': 0, 'A': 1, 'B': 2, 'C': 3, 'D': 4, 'E': 5, 'F': 6, 'G': 7, 'T': 8})\n",
    "\n",
    "# Get rid of unnecessary columns\n",
    "X = X.drop(['Survived', 'Name', 'Ticket', 'Embarked', 'Cabin'], axis=1)\n",
    "X_test = X_test.drop(['Name', 'Ticket', 'Embarked', 'Cabin'], axis=1)\n",
    "\n",
    "# Make sure there are no missing values and all values are numerical\n",
    "print(\"Train data:\")\n",
    "print(X.info())\n",
    "print('\\n\\n')\n",
    "print(\"Test data:\")\n",
    "print(X_test.info())\n",
    "\n",
    "# Make sure there are no empty / NaN values\n",
    "print(\"Train data:\")\n",
    "print(X.isnull().sum())\n",
    "print('\\n\\n')\n",
    "print(\"Test data:\")\n",
    "print(X_test.isnull().sum())\n",
    "\n",
    "\n",
    "# Number of features\n",
    "input_dim = X.shape[1]\n",
    "print(\"Input dimensions: %s\" % (input_dim))\n",
    "\n",
    "# Train test split\n",
    "X_train, X_val, y_train, y_val = train_test_split(X, y, test_size=0.2, random_state=42)"
   ]
  },
  {
   "cell_type": "code",
   "execution_count": 4,
   "id": "9fad53c2",
   "metadata": {
    "execution": {
     "iopub.execute_input": "2024-07-21T08:15:46.091068Z",
     "iopub.status.busy": "2024-07-21T08:15:46.090163Z",
     "iopub.status.idle": "2024-07-21T08:15:46.115734Z",
     "shell.execute_reply": "2024-07-21T08:15:46.114334Z"
    },
    "papermill": {
     "duration": 0.031752,
     "end_time": "2024-07-21T08:15:46.117817",
     "exception": false,
     "start_time": "2024-07-21T08:15:46.086065",
     "status": "completed"
    },
    "tags": []
   },
   "outputs": [
    {
     "name": "stdout",
     "output_type": "stream",
     "text": [
      "Validation Accuracy: 0.6648\n"
     ]
    }
   ],
   "source": [
    "# Define KNN classifier\n",
    "knn = KNeighborsClassifier(n_neighbors=5)\n",
    "\n",
    "# Train the model\n",
    "knn.fit(X_train, y_train)\n",
    "\n",
    "# Predict on validation data\n",
    "val_predictions = knn.predict(X_val)\n",
    "\n",
    "# Calculate accuracy\n",
    "accuracy = accuracy_score(y_val, val_predictions)\n",
    "print(f\"Validation Accuracy: {accuracy:.4f}\")"
   ]
  },
  {
   "cell_type": "code",
   "execution_count": 5,
   "id": "6daf977f",
   "metadata": {
    "execution": {
     "iopub.execute_input": "2024-07-21T08:15:46.125320Z",
     "iopub.status.busy": "2024-07-21T08:15:46.124888Z",
     "iopub.status.idle": "2024-07-21T08:15:46.161038Z",
     "shell.execute_reply": "2024-07-21T08:15:46.159994Z"
    },
    "papermill": {
     "duration": 0.042713,
     "end_time": "2024-07-21T08:15:46.163555",
     "exception": false,
     "start_time": "2024-07-21T08:15:46.120842",
     "status": "completed"
    },
    "tags": []
   },
   "outputs": [],
   "source": [
    "# Predict on test data\n",
    "predictions = knn.predict(X_test)\n",
    "\n",
    "# Save predictions to csv\n",
    "output_df = pd.DataFrame({'PassengerId': test_df['PassengerId'], 'Survived': predictions})\n",
    "output_df.to_csv(OUTPUT_PATH, index=False)"
   ]
  }
 ],
 "metadata": {
  "kaggle": {
   "accelerator": "none",
   "dataSources": [
    {
     "databundleVersionId": 26502,
     "sourceId": 3136,
     "sourceType": "competition"
    }
   ],
   "dockerImageVersionId": 30746,
   "isGpuEnabled": false,
   "isInternetEnabled": true,
   "language": "python",
   "sourceType": "notebook"
  },
  "kernelspec": {
   "display_name": "Python 3",
   "language": "python",
   "name": "python3"
  },
  "language_info": {
   "codemirror_mode": {
    "name": "ipython",
    "version": 3
   },
   "file_extension": ".py",
   "mimetype": "text/x-python",
   "name": "python",
   "nbconvert_exporter": "python",
   "pygments_lexer": "ipython3",
   "version": "3.10.13"
  },
  "papermill": {
   "default_parameters": {},
   "duration": 6.199333,
   "end_time": "2024-07-21T08:15:46.788050",
   "environment_variables": {},
   "exception": null,
   "input_path": "__notebook__.ipynb",
   "output_path": "__notebook__.ipynb",
   "parameters": {},
   "start_time": "2024-07-21T08:15:40.588717",
   "version": "2.5.0"
  }
 },
 "nbformat": 4,
 "nbformat_minor": 5
}
